{
 "cells": [
  {
   "cell_type": "code",
   "execution_count": 1,
   "metadata": {},
   "outputs": [],
   "source": [
    "import sys, os\n",
    "sys.path.insert(0, os.path.abspath('..'))\n",
    "sys.path.insert(0, os.path.abspath('../..'))\n",
    "import warnings\n",
    "warnings.simplefilter(action='ignore', category=FutureWarning)\n",
    "os.environ[\"TF_CPP_MIN_LOG_LEVEL\"]=\"3\"\n",
    "import numpy as np\n",
    "from collections import namedtuple\n",
    "from src.util import impdicts\n",
    "from src.envs.metaenvmulti import MetaEnvMulti\n",
    "from src.util import utils\n",
    "from src.util.impdicts import bcolors\n",
    "from time import sleep\n",
    "from datetime import datetime\n",
    "from typing import List, Tuple, Dict\n",
    "import argparse"
   ]
  },
  {
   "cell_type": "code",
   "execution_count": 5,
   "metadata": {},
   "outputs": [],
   "source": [
    "NO_SLOTS = 8\n",
    "NO_INTENTS = 5\n",
    "META_OPTION_SIZE = 6\n",
    "CONTROLLER_ACTION_SIZE = 20\n",
    "META_STATE_SIZE = NO_SLOTS + NO_INTENTS\n",
    "CONTROLLER_STATE_SIZE = NO_SLOTS + NO_INTENTS"
   ]
  },
  {
   "cell_type": "code",
   "execution_count": null,
   "metadata": {},
   "outputs": [],
   "source": []
  }
 ],
 "metadata": {
  "kernelspec": {
   "display_name": "Python 3",
   "language": "python",
   "name": "python3"
  },
  "language_info": {
   "codemirror_mode": {
    "name": "ipython",
    "version": 3
   },
   "file_extension": ".py",
   "mimetype": "text/x-python",
   "name": "python",
   "nbconvert_exporter": "python",
   "pygments_lexer": "ipython3",
   "version": "3.6.5"
  }
 },
 "nbformat": 4,
 "nbformat_minor": 1
}
